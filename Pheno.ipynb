{
 "cells": [
  {
   "cell_type": "code",
   "execution_count": 1,
   "id": "d1f72ff7",
   "metadata": {},
   "outputs": [
    {
     "name": "stderr",
     "output_type": "stream",
     "text": [
      "-- \u001b[1mAttaching packages\u001b[22m --------------------------------------- tidyverse 1.3.1 --\n",
      "\n",
      "\u001b[32mv\u001b[39m \u001b[34mggplot2\u001b[39m 3.3.5     \u001b[32mv\u001b[39m \u001b[34mpurrr  \u001b[39m 0.3.4\n",
      "\u001b[32mv\u001b[39m \u001b[34mtibble \u001b[39m 3.1.6     \u001b[32mv\u001b[39m \u001b[34mdplyr  \u001b[39m 1.0.8\n",
      "\u001b[32mv\u001b[39m \u001b[34mtidyr  \u001b[39m 1.2.0     \u001b[32mv\u001b[39m \u001b[34mstringr\u001b[39m 1.4.0\n",
      "\u001b[32mv\u001b[39m \u001b[34mreadr  \u001b[39m 2.1.2     \u001b[32mv\u001b[39m \u001b[34mforcats\u001b[39m 0.5.1\n",
      "\n",
      "-- \u001b[1mConflicts\u001b[22m ------------------------------------------ tidyverse_conflicts() --\n",
      "\u001b[31mx\u001b[39m \u001b[34mdplyr\u001b[39m::\u001b[32mfilter()\u001b[39m masks \u001b[34mstats\u001b[39m::filter()\n",
      "\u001b[31mx\u001b[39m \u001b[34mdplyr\u001b[39m::\u001b[32mlag()\u001b[39m    masks \u001b[34mstats\u001b[39m::lag()\n",
      "\n",
      "\n",
      "Attaching package: 'data.table'\n",
      "\n",
      "\n",
      "The following objects are masked from 'package:dplyr':\n",
      "\n",
      "    between, first, last\n",
      "\n",
      "\n",
      "The following object is masked from 'package:purrr':\n",
      "\n",
      "    transpose\n",
      "\n",
      "\n",
      "\n",
      "Attaching package: 'zoo'\n",
      "\n",
      "\n",
      "The following objects are masked from 'package:base':\n",
      "\n",
      "    as.Date, as.Date.numeric\n",
      "\n",
      "\n",
      "Loading required package: lme4\n",
      "\n",
      "Loading required package: Matrix\n",
      "\n",
      "\n",
      "Attaching package: 'Matrix'\n",
      "\n",
      "\n",
      "The following objects are masked from 'package:tidyr':\n",
      "\n",
      "    expand, pack, unpack\n",
      "\n",
      "\n",
      "\n",
      "Attaching package: 'lmerTest'\n",
      "\n",
      "\n",
      "The following object is masked from 'package:lme4':\n",
      "\n",
      "    lmer\n",
      "\n",
      "\n",
      "The following object is masked from 'package:stats':\n",
      "\n",
      "    step\n",
      "\n",
      "\n",
      "\n",
      "Loading the 'metafor' package (version 3.0-2). For an\n",
      "introduction to the package please type: help(metafor)\n",
      "\n",
      "\n"
     ]
    }
   ],
   "source": [
    "library(tidyverse)\n",
    "library(data.table)\n",
    "library(zoo)\n",
    "# library(tableone)\n",
    "library(survival)\n",
    "library(lmerTest)\n",
    "library(metafor)\n",
    "library(optimx)\n",
    "library(broom)"
   ]
  },
  {
   "cell_type": "code",
   "execution_count": 2,
   "id": "c2a27065",
   "metadata": {},
   "outputs": [
    {
     "data": {
      "text/plain": [
       "                  \n",
       "STUDY_NAME         FALSE TRUE\n",
       "  DATATOP              4  796\n",
       "  DIGPD               76  350\n",
       "  HBS                 98  482\n",
       "  NET_PD_LS1          36 1705\n",
       "  PARKFIT            120  466\n",
       "  PARKWEST             6  181\n",
       "  PDBP               447  485\n",
       "  PICNICS             11  122\n",
       "  PPMI                52  408\n",
       "  PROPARK              6  327\n",
       "  PreCEPT_PostCEPT     0  390\n",
       "  UDALL_PENN          19  233"
      ]
     },
     "metadata": {},
     "output_type": "display_data"
    }
   ],
   "source": [
    "VARS = c(\"STUDY_NAME\", \"ID\", \"TSTART\", \"DOPA\", \"AGONIST\",'Race', 'LED', 'LDD', 'DAD', 'WGTBL', 'HTBL', 'BMI',\n",
    "         \"Hyposmia\", \"Cognitive_Impairment\",\"Wearing_Off\", \"Dyskinesia\", \"Depression\", \n",
    "         \"RLS\",\"Constipation\", \"pRBD\", \"Daytime_Sleepiness\", \"Insomnia\", \"HY\", \n",
    "         \"UPDRS1\", \"UPDRS2\",\"UPDRS3\", \"UPDRS4\", \"oldUPDRS\",\"MDS_UPDRS\", \"MMSE\", \"MoCA\", \"SEADL\",'UPSIT', 'SEADL70',\n",
    "         \"AGEatBL\", \"FEMALE\", \"YEARSEDUC\", \"BLDfDIAG\",\"AAO\",\"AD\", 'FUY')\n",
    "VARSb = c('Female', \"Hyposmia\",\"Cognitive_Impairment\", \"Wearing_Off\", \n",
    "          \"Dyskinesia\", \"Depression\", \"RLS\",\"Constipation\", \"pRBD\", \n",
    "          \"Daytime_Sleepiness\", \"Insomnia\", \"SEADL70\")\n",
    "VARSu = c(\"UPDRS_scaled\", \"UPDRS1_scaled\", \"UPDRS2_scaled\", \"UPDRS3_scaled\", \"UPDRS4_scaled\")\n",
    "VARSc = c(VARSu, 'HY', \"MMSE\", \"MoCA\", \"SEADL\")\n",
    "DENOVOs=c('PPMI', 'PreCEPT_PostCEPT', 'PARKWEST', 'DATATOP')\n",
    "STUDYs = c(DENOVOs, 'PICNICS', 'NET_PD_LS1', 'DIGPD',  \"PDBP\", \"HBS\", \"PARKFIT\", \"PROPARK\", \"UDALL_PENN\")\n",
    "\n",
    "d = lapply(STUDYs, function(x){fread(sprintf('/data/LNG/iwakih2/MaleFemale/PDcohorts/%s/standardized.csv', x)) %>% mutate(ID=as.character(ID))}) %>% \n",
    "  bind_rows() %>% \n",
    "  mutate(STUDY_NAME = ifelse(grepl('PDBP_', STUDY_NAME), 'PDBP', STUDY_NAME)) %>%\n",
    "  mutate(Age = AGEatBL + TSTART/365.25) %>%\n",
    "  mutate(DiseaseDuration = BLDfDIAG + TSTART/365.25)\n",
    "\n",
    "# recode and rename\n",
    "d = d %>% \n",
    "    # set BMI but BMI >50 are highly likely to be scaling mistakes\n",
    "    mutate(BMI = WGTBL/HTBL/HTBL*100*100) %>%\n",
    "    mutate(BMI = ifelse(BMI>55, NA, BMI),\n",
    "           WGTBL = ifelse(BMI>55, NA, WGTBL),\n",
    "           HTBL = ifelse(BMI>55, NA, HTBL))%>%\n",
    "    # New hyposmia threshold using UPSIT norm\n",
    "    mutate(Hyposmia = case_when(\n",
    "        (FEMALE==1) & (Age<25) & (UPSIT<=35) ~ 1,\n",
    "        (FEMALE==1) & (Age<50) & (UPSIT<=34) ~ 1,\n",
    "        (FEMALE==1) & (Age<60) & (UPSIT<=32) ~ 1,\n",
    "        (FEMALE==1) & (Age<65) & (UPSIT<=31) ~ 1,\n",
    "        (FEMALE==1) & (Age<70) & (UPSIT<=26) ~ 1,\n",
    "        (FEMALE==1) & (Age<75) & (UPSIT<=22) ~ 1,\n",
    "        (FEMALE==1) & (Age<80) & (UPSIT<=17) ~ 1,\n",
    "        (FEMALE==1) & (Age>=80) & (UPSIT<=15) ~ 1,\n",
    "        (FEMALE==0) & (Age<40) & (UPSIT<=33) ~ 1,\n",
    "        (FEMALE==0) & (Age<50) & (UPSIT<=32) ~ 1,\n",
    "        (FEMALE==0) & (Age<55) & (UPSIT<=29) ~ 1,\n",
    "        (FEMALE==0) & (Age<65) & (UPSIT<=26) ~ 1,\n",
    "        (FEMALE==0) & (Age<70) & (UPSIT<=22) ~ 1,\n",
    "        (FEMALE==0) & (Age<75) & (UPSIT<=19) ~ 1,\n",
    "        (FEMALE==0) & (Age<80) & (UPSIT<=18) ~ 1,\n",
    "        (FEMALE==0) & (Age<85) & (UPSIT<=12) ~ 1,\n",
    "        (FEMALE==0) & (Age>=85) & (UPSIT<=10) ~ 1,\n",
    "        !is.na(UPSIT) ~ 0)) %>%\n",
    "#     mutate(Anosmia = (UPSIT<18)*1) %>% \n",
    "    rename(Wearing_Off = MOTORFLUX,\n",
    "          Cognitive_Impairment = MCI,\n",
    "          Dementia=DEMENTIA,\n",
    "          MoCA = MOCA,\n",
    "          Dyskinesia = DYSKINESIAS,\n",
    "          Depression = DEPR,\n",
    "          RLS = RL, \n",
    "          Constipation = CONST,\n",
    "          pRBD = RBD,\n",
    "          Daytime_Sleepiness = SLEEP,\n",
    "          Insomnia = INS)\n",
    "\n",
    "db = d %>% filter(TSTART==0) %>% filter(RECRUIT=='PD', DX=='PD') # Only PDs\n",
    "db %>% with(table(STUDY_NAME, FUY>0))\n",
    "db = db %>% filter(FUY>0)  # Filter out FUY==0\n",
    "\n",
    "# Keep the FU>0, and Standardization of UPDRS\n",
    "d = semi_join(d, db, by = c('STUDY_NAME', 'ID')) # Only keep participants in db\n",
    "t = db %>% group_by(STUDY_NAME) %>% \n",
    "  summarise_at(vars('UPDRS1', 'UPDRS2', 'UPDRS3', 'oldUPDRS', 'MDS_UPDRS'),\n",
    "               list(~mean(., na.rm = T), ~sd(., na.rm=T))) %>% data.frame\n",
    "d = left_join(d, t, by = 'STUDY_NAME') %>% \n",
    "  mutate(UPDRS1_scaled = ifelse(is.na(UPDRS1_sd), NA, (UPDRS1 - UPDRS1_mean)/UPDRS1_sd),\n",
    "         UPDRS2_scaled = ifelse(is.na(UPDRS2_sd), NA, (UPDRS2 - UPDRS2_mean)/UPDRS2_sd),\n",
    "         UPDRS3_scaled = ifelse(is.na(UPDRS3_sd), NA, (UPDRS3 - UPDRS3_mean)/UPDRS3_sd),\n",
    "         UPDRS4_scaled = scale(UPDRS4),\n",
    "         UPDRS_scaled = case_when(\n",
    "           !is.na(MDS_UPDRS_sd) ~ (MDS_UPDRS - MDS_UPDRS_mean)/MDS_UPDRS_sd,\n",
    "           !is.na(oldUPDRS_sd) ~ (oldUPDRS - oldUPDRS_mean)/oldUPDRS_sd)) %>% \n",
    "  select(all_of(unique(c(VARS, VARSu, 'Age', 'DiseaseDuration'))))\n",
    "\n",
    "# Reset the data at baseline\n",
    "db = d %>% filter(TSTART==0)"
   ]
  },
  {
   "cell_type": "code",
   "execution_count": 3,
   "id": "79773a81",
   "metadata": {},
   "outputs": [
    {
     "data": {
      "text/html": [
       "<table class=\"dataframe\">\n",
       "<caption>A data.table: 6 × 48</caption>\n",
       "<thead>\n",
       "\t<tr><th scope=col>STUDY_NAME</th><th scope=col>ID</th><th scope=col>TSTART</th><th scope=col>DOPA</th><th scope=col>AGONIST</th><th scope=col>Race</th><th scope=col>LED</th><th scope=col>LDD</th><th scope=col>DAD</th><th scope=col>WGTBL</th><th scope=col>⋯</th><th scope=col>AAO</th><th scope=col>AD</th><th scope=col>FUY</th><th scope=col>UPDRS_scaled</th><th scope=col>UPDRS1_scaled</th><th scope=col>UPDRS2_scaled</th><th scope=col>UPDRS3_scaled</th><th scope=col>UPDRS4_scaled</th><th scope=col>Age</th><th scope=col>DiseaseDuration</th></tr>\n",
       "\t<tr><th scope=col>&lt;chr&gt;</th><th scope=col>&lt;chr&gt;</th><th scope=col>&lt;int&gt;</th><th scope=col>&lt;int&gt;</th><th scope=col>&lt;int&gt;</th><th scope=col>&lt;chr&gt;</th><th scope=col>&lt;dbl&gt;</th><th scope=col>&lt;dbl&gt;</th><th scope=col>&lt;dbl&gt;</th><th scope=col>&lt;dbl&gt;</th><th scope=col>⋯</th><th scope=col>&lt;dbl&gt;</th><th scope=col>&lt;dbl&gt;</th><th scope=col>&lt;dbl&gt;</th><th scope=col>&lt;dbl&gt;</th><th scope=col>&lt;dbl&gt;</th><th scope=col>&lt;dbl&gt;</th><th scope=col>&lt;dbl&gt;</th><th scope=col>&lt;dbl&gt;</th><th scope=col>&lt;dbl&gt;</th><th scope=col>&lt;dbl&gt;</th></tr>\n",
       "</thead>\n",
       "<tbody>\n",
       "\t<tr><td>PPMI</td><td>3001</td><td>  0</td><td>0</td><td>0</td><td>White</td><td> NA</td><td>NA</td><td>NA</td><td>74.2</td><td>⋯</td><td>63.83299</td><td>NA</td><td>8</td><td>-0.73539540</td><td>0.6026279</td><td>-0.9161895</td><td>-0.94449348</td><td>-0.7548255</td><td>64.74743</td><td>0.9144422</td></tr>\n",
       "\t<tr><td>PPMI</td><td>3001</td><td> 61</td><td>0</td><td>0</td><td>White</td><td>  0</td><td> 0</td><td>NA</td><td>74.2</td><td>⋯</td><td>63.83299</td><td>NA</td><td>8</td><td>-0.42631343</td><td>0.3582222</td><td>-0.9161895</td><td>-0.36727158</td><td>-0.7548255</td><td>64.91444</td><td>1.0814511</td></tr>\n",
       "\t<tr><td>PPMI</td><td>3001</td><td>153</td><td>0</td><td>0</td><td>White</td><td>  0</td><td> 0</td><td>NA</td><td>74.2</td><td>⋯</td><td>63.83299</td><td>NA</td><td>8</td><td> 0.03730953</td><td>0.3582222</td><td>-0.6751802</td><td> 0.20995032</td><td>-0.7548255</td><td>65.16632</td><td>1.3333333</td></tr>\n",
       "\t<tr><td>PPMI</td><td>3001</td><td>245</td><td>0</td><td>0</td><td>White</td><td>  0</td><td> 0</td><td>NA</td><td>74.2</td><td>⋯</td><td>63.83299</td><td>NA</td><td>8</td><td>-0.11723146</td><td>0.6026279</td><td>-0.6751802</td><td>-0.13638282</td><td>-0.7548255</td><td>65.41821</td><td>1.5852156</td></tr>\n",
       "\t<tr><td>PPMI</td><td>3001</td><td>366</td><td>0</td><td>0</td><td>White</td><td>  0</td><td> 0</td><td>NA</td><td>74.2</td><td>⋯</td><td>63.83299</td><td>NA</td><td>8</td><td> 0.26912101</td><td>1.5802510</td><td>-0.6751802</td><td>-0.02093844</td><td>-0.7548255</td><td>65.74949</td><td>1.9164956</td></tr>\n",
       "\t<tr><td>PPMI</td><td>3001</td><td>550</td><td>0</td><td>0</td><td>White</td><td>100</td><td> 0</td><td>NA</td><td>74.2</td><td>⋯</td><td>63.83299</td><td>NA</td><td>8</td><td> 0.73274396</td><td>0.8470337</td><td>-0.4341710</td><td> 0.90261660</td><td>-0.7548255</td><td>66.25325</td><td>2.4202601</td></tr>\n",
       "</tbody>\n",
       "</table>\n"
      ],
      "text/latex": [
       "A data.table: 6 × 48\n",
       "\\begin{tabular}{lllllllllllllllllllll}\n",
       " STUDY\\_NAME & ID & TSTART & DOPA & AGONIST & Race & LED & LDD & DAD & WGTBL & ⋯ & AAO & AD & FUY & UPDRS\\_scaled & UPDRS1\\_scaled & UPDRS2\\_scaled & UPDRS3\\_scaled & UPDRS4\\_scaled & Age & DiseaseDuration\\\\\n",
       " <chr> & <chr> & <int> & <int> & <int> & <chr> & <dbl> & <dbl> & <dbl> & <dbl> & ⋯ & <dbl> & <dbl> & <dbl> & <dbl> & <dbl> & <dbl> & <dbl> & <dbl> & <dbl> & <dbl>\\\\\n",
       "\\hline\n",
       "\t PPMI & 3001 &   0 & 0 & 0 & White &  NA & NA & NA & 74.2 & ⋯ & 63.83299 & NA & 8 & -0.73539540 & 0.6026279 & -0.9161895 & -0.94449348 & -0.7548255 & 64.74743 & 0.9144422\\\\\n",
       "\t PPMI & 3001 &  61 & 0 & 0 & White &   0 &  0 & NA & 74.2 & ⋯ & 63.83299 & NA & 8 & -0.42631343 & 0.3582222 & -0.9161895 & -0.36727158 & -0.7548255 & 64.91444 & 1.0814511\\\\\n",
       "\t PPMI & 3001 & 153 & 0 & 0 & White &   0 &  0 & NA & 74.2 & ⋯ & 63.83299 & NA & 8 &  0.03730953 & 0.3582222 & -0.6751802 &  0.20995032 & -0.7548255 & 65.16632 & 1.3333333\\\\\n",
       "\t PPMI & 3001 & 245 & 0 & 0 & White &   0 &  0 & NA & 74.2 & ⋯ & 63.83299 & NA & 8 & -0.11723146 & 0.6026279 & -0.6751802 & -0.13638282 & -0.7548255 & 65.41821 & 1.5852156\\\\\n",
       "\t PPMI & 3001 & 366 & 0 & 0 & White &   0 &  0 & NA & 74.2 & ⋯ & 63.83299 & NA & 8 &  0.26912101 & 1.5802510 & -0.6751802 & -0.02093844 & -0.7548255 & 65.74949 & 1.9164956\\\\\n",
       "\t PPMI & 3001 & 550 & 0 & 0 & White & 100 &  0 & NA & 74.2 & ⋯ & 63.83299 & NA & 8 &  0.73274396 & 0.8470337 & -0.4341710 &  0.90261660 & -0.7548255 & 66.25325 & 2.4202601\\\\\n",
       "\\end{tabular}\n"
      ],
      "text/markdown": [
       "\n",
       "A data.table: 6 × 48\n",
       "\n",
       "| STUDY_NAME &lt;chr&gt; | ID &lt;chr&gt; | TSTART &lt;int&gt; | DOPA &lt;int&gt; | AGONIST &lt;int&gt; | Race &lt;chr&gt; | LED &lt;dbl&gt; | LDD &lt;dbl&gt; | DAD &lt;dbl&gt; | WGTBL &lt;dbl&gt; | ⋯ ⋯ | AAO &lt;dbl&gt; | AD &lt;dbl&gt; | FUY &lt;dbl&gt; | UPDRS_scaled &lt;dbl&gt; | UPDRS1_scaled &lt;dbl&gt; | UPDRS2_scaled &lt;dbl&gt; | UPDRS3_scaled &lt;dbl&gt; | UPDRS4_scaled &lt;dbl&gt; | Age &lt;dbl&gt; | DiseaseDuration &lt;dbl&gt; |\n",
       "|---|---|---|---|---|---|---|---|---|---|---|---|---|---|---|---|---|---|---|---|---|\n",
       "| PPMI | 3001 |   0 | 0 | 0 | White |  NA | NA | NA | 74.2 | ⋯ | 63.83299 | NA | 8 | -0.73539540 | 0.6026279 | -0.9161895 | -0.94449348 | -0.7548255 | 64.74743 | 0.9144422 |\n",
       "| PPMI | 3001 |  61 | 0 | 0 | White |   0 |  0 | NA | 74.2 | ⋯ | 63.83299 | NA | 8 | -0.42631343 | 0.3582222 | -0.9161895 | -0.36727158 | -0.7548255 | 64.91444 | 1.0814511 |\n",
       "| PPMI | 3001 | 153 | 0 | 0 | White |   0 |  0 | NA | 74.2 | ⋯ | 63.83299 | NA | 8 |  0.03730953 | 0.3582222 | -0.6751802 |  0.20995032 | -0.7548255 | 65.16632 | 1.3333333 |\n",
       "| PPMI | 3001 | 245 | 0 | 0 | White |   0 |  0 | NA | 74.2 | ⋯ | 63.83299 | NA | 8 | -0.11723146 | 0.6026279 | -0.6751802 | -0.13638282 | -0.7548255 | 65.41821 | 1.5852156 |\n",
       "| PPMI | 3001 | 366 | 0 | 0 | White |   0 |  0 | NA | 74.2 | ⋯ | 63.83299 | NA | 8 |  0.26912101 | 1.5802510 | -0.6751802 | -0.02093844 | -0.7548255 | 65.74949 | 1.9164956 |\n",
       "| PPMI | 3001 | 550 | 0 | 0 | White | 100 |  0 | NA | 74.2 | ⋯ | 63.83299 | NA | 8 |  0.73274396 | 0.8470337 | -0.4341710 |  0.90261660 | -0.7548255 | 66.25325 | 2.4202601 |\n",
       "\n"
      ],
      "text/plain": [
       "  STUDY_NAME ID   TSTART DOPA AGONIST Race  LED LDD DAD WGTBL <U+22EF>   AAO     \n",
       "1 PPMI       3001   0    0    0       White  NA NA  NA  74.2  <U+22EF> 63.83299\n",
       "2 PPMI       3001  61    0    0       White   0  0  NA  74.2  <U+22EF> 63.83299\n",
       "3 PPMI       3001 153    0    0       White   0  0  NA  74.2  <U+22EF> 63.83299\n",
       "4 PPMI       3001 245    0    0       White   0  0  NA  74.2  <U+22EF> 63.83299\n",
       "5 PPMI       3001 366    0    0       White   0  0  NA  74.2  <U+22EF> 63.83299\n",
       "6 PPMI       3001 550    0    0       White 100  0  NA  74.2  <U+22EF> 63.83299\n",
       "  AD FUY UPDRS_scaled UPDRS1_scaled UPDRS2_scaled UPDRS3_scaled UPDRS4_scaled\n",
       "1 NA 8   -0.73539540  0.6026279     -0.9161895    -0.94449348   -0.7548255   \n",
       "2 NA 8   -0.42631343  0.3582222     -0.9161895    -0.36727158   -0.7548255   \n",
       "3 NA 8    0.03730953  0.3582222     -0.6751802     0.20995032   -0.7548255   \n",
       "4 NA 8   -0.11723146  0.6026279     -0.6751802    -0.13638282   -0.7548255   \n",
       "5 NA 8    0.26912101  1.5802510     -0.6751802    -0.02093844   -0.7548255   \n",
       "6 NA 8    0.73274396  0.8470337     -0.4341710     0.90261660   -0.7548255   \n",
       "  Age      DiseaseDuration\n",
       "1 64.74743 0.9144422      \n",
       "2 64.91444 1.0814511      \n",
       "3 65.16632 1.3333333      \n",
       "4 65.41821 1.5852156      \n",
       "5 65.74949 1.9164956      \n",
       "6 66.25325 2.4202601      "
      ]
     },
     "metadata": {},
     "output_type": "display_data"
    }
   ],
   "source": [
    "head(d)"
   ]
  },
  {
   "cell_type": "code",
   "execution_count": 4,
   "id": "d90729f9",
   "metadata": {},
   "outputs": [],
   "source": [
    "# CORIELL\n",
    "pca1 = fread('/data/LNG/iwakih2/dataset/CORIELL/pca10.txt') %>%\n",
    "    separate(IID_IID, into=c('ID', '_'), remove=F) %>% \n",
    "    mutate(STUDY_NAME='NET_PD_LS1')\n",
    "\n",
    "# SCOPA\n",
    "pca2 = fread('/data/LNG/iwakih2/dataset/SCOPA/pca10.txt') %>%\n",
    "    separate(IID_IID, into=c('ID', '_'), remove=F) %>% \n",
    "    mutate(STUDY_NAME='PROPARK')\n",
    "\n",
    "# PRECEPT\n",
    "pca3 = fread('/data/LNG/iwakih2/dataset/PRECEPT/pca10.txt') %>%\n",
    "    separate(IID_IID, into=c('ID', '_'), remove=F) %>% \n",
    "    mutate(STUDY_NAME='PreCEPT_PostCEPT')\n",
    "\n",
    "pca = bind_rows(pca1, pca2, pca3) %>% \n",
    "    rename(FID=FID_FID, IID = IID_IID)\n"
   ]
  },
  {
   "cell_type": "code",
   "execution_count": 5,
   "id": "a3eee01b",
   "metadata": {},
   "outputs": [
    {
     "data": {
      "text/html": [
       "<table class=\"dataframe\">\n",
       "<caption>A grouped_df: 9 × 14</caption>\n",
       "<thead>\n",
       "\t<tr><th scope=col>STUDY_NAME</th><th scope=col>ID</th><th scope=col>TSTART</th><th scope=col>DOPA</th><th scope=col>DA</th><th scope=col>LED</th><th scope=col>LDD</th><th scope=col>DAD</th><th scope=col>BMI</th><th scope=col>PD_AAO</th><th scope=col>Disease_duration</th><th scope=col>HY</th><th scope=col>Dyskinesia</th><th scope=col>Sex</th></tr>\n",
       "\t<tr><th scope=col>&lt;chr&gt;</th><th scope=col>&lt;chr&gt;</th><th scope=col>&lt;int&gt;</th><th scope=col>&lt;int&gt;</th><th scope=col>&lt;int&gt;</th><th scope=col>&lt;dbl&gt;</th><th scope=col>&lt;dbl&gt;</th><th scope=col>&lt;dbl&gt;</th><th scope=col>&lt;dbl&gt;</th><th scope=col>&lt;dbl&gt;</th><th scope=col>&lt;dbl&gt;</th><th scope=col>&lt;dbl&gt;</th><th scope=col>&lt;int&gt;</th><th scope=col>&lt;chr&gt;</th></tr>\n",
       "</thead>\n",
       "<tbody>\n",
       "\t<tr><td>NET_PD_LS1      </td><td>10098</td><td>   0</td><td>0</td><td>1</td><td>300.00</td><td> 0</td><td>300</td><td>24.53287</td><td>66.60000</td><td> 2.4000000</td><td>3</td><td> 0</td><td>Male  </td></tr>\n",
       "\t<tr><td>NET_PD_LS1      </td><td>10098</td><td>  85</td><td>0</td><td>1</td><td>300.00</td><td> 0</td><td>300</td><td>24.53287</td><td>66.60000</td><td> 2.6327173</td><td>3</td><td> 0</td><td>Male  </td></tr>\n",
       "\t<tr><td>NET_PD_LS1      </td><td>10098</td><td> 360</td><td>0</td><td>1</td><td>320.00</td><td> 0</td><td>320</td><td>24.53287</td><td>66.60000</td><td> 3.3856263</td><td>3</td><td> 0</td><td>Male  </td></tr>\n",
       "\t<tr><td>PROPARK         </td><td>1    </td><td>   0</td><td>1</td><td>1</td><td>682.00</td><td>NA</td><td> NA</td><td>      NA</td><td>71.00000</td><td>10.8000000</td><td>3</td><td> 1</td><td>Female</td></tr>\n",
       "\t<tr><td>PROPARK         </td><td>1    </td><td> 530</td><td>1</td><td>1</td><td>607.00</td><td>NA</td><td> NA</td><td>      NA</td><td>71.00000</td><td>12.2510609</td><td>3</td><td> 1</td><td>Female</td></tr>\n",
       "\t<tr><td>PROPARK         </td><td>1    </td><td>1014</td><td>1</td><td>0</td><td>498.75</td><td>NA</td><td> NA</td><td>      NA</td><td>71.00000</td><td>13.5761807</td><td>5</td><td> 1</td><td>Female</td></tr>\n",
       "\t<tr><td>PreCEPT_PostCEPT</td><td>1003 </td><td>   0</td><td>0</td><td>0</td><td>    NA</td><td>NA</td><td> NA</td><td>      NA</td><td>69.99863</td><td> 0.1971253</td><td>1</td><td>NA</td><td>Male  </td></tr>\n",
       "\t<tr><td>PreCEPT_PostCEPT</td><td>1003 </td><td>  26</td><td>0</td><td>0</td><td>    NA</td><td>NA</td><td> NA</td><td>      NA</td><td>69.99863</td><td> 0.2683094</td><td>1</td><td>NA</td><td>Male  </td></tr>\n",
       "\t<tr><td>PreCEPT_PostCEPT</td><td>1003 </td><td>  55</td><td>0</td><td>0</td><td>    NA</td><td>NA</td><td> NA</td><td>      NA</td><td>69.99863</td><td> 0.3477071</td><td>1</td><td>NA</td><td>Male  </td></tr>\n",
       "</tbody>\n",
       "</table>\n"
      ],
      "text/latex": [
       "A grouped\\_df: 9 × 14\n",
       "\\begin{tabular}{llllllllllllll}\n",
       " STUDY\\_NAME & ID & TSTART & DOPA & DA & LED & LDD & DAD & BMI & PD\\_AAO & Disease\\_duration & HY & Dyskinesia & Sex\\\\\n",
       " <chr> & <chr> & <int> & <int> & <int> & <dbl> & <dbl> & <dbl> & <dbl> & <dbl> & <dbl> & <dbl> & <int> & <chr>\\\\\n",
       "\\hline\n",
       "\t NET\\_PD\\_LS1       & 10098 &    0 & 0 & 1 & 300.00 &  0 & 300 & 24.53287 & 66.60000 &  2.4000000 & 3 &  0 & Male  \\\\\n",
       "\t NET\\_PD\\_LS1       & 10098 &   85 & 0 & 1 & 300.00 &  0 & 300 & 24.53287 & 66.60000 &  2.6327173 & 3 &  0 & Male  \\\\\n",
       "\t NET\\_PD\\_LS1       & 10098 &  360 & 0 & 1 & 320.00 &  0 & 320 & 24.53287 & 66.60000 &  3.3856263 & 3 &  0 & Male  \\\\\n",
       "\t PROPARK          & 1     &    0 & 1 & 1 & 682.00 & NA &  NA &       NA & 71.00000 & 10.8000000 & 3 &  1 & Female\\\\\n",
       "\t PROPARK          & 1     &  530 & 1 & 1 & 607.00 & NA &  NA &       NA & 71.00000 & 12.2510609 & 3 &  1 & Female\\\\\n",
       "\t PROPARK          & 1     & 1014 & 1 & 0 & 498.75 & NA &  NA &       NA & 71.00000 & 13.5761807 & 5 &  1 & Female\\\\\n",
       "\t PreCEPT\\_PostCEPT & 1003  &    0 & 0 & 0 &     NA & NA &  NA &       NA & 69.99863 &  0.1971253 & 1 & NA & Male  \\\\\n",
       "\t PreCEPT\\_PostCEPT & 1003  &   26 & 0 & 0 &     NA & NA &  NA &       NA & 69.99863 &  0.2683094 & 1 & NA & Male  \\\\\n",
       "\t PreCEPT\\_PostCEPT & 1003  &   55 & 0 & 0 &     NA & NA &  NA &       NA & 69.99863 &  0.3477071 & 1 & NA & Male  \\\\\n",
       "\\end{tabular}\n"
      ],
      "text/markdown": [
       "\n",
       "A grouped_df: 9 × 14\n",
       "\n",
       "| STUDY_NAME &lt;chr&gt; | ID &lt;chr&gt; | TSTART &lt;int&gt; | DOPA &lt;int&gt; | DA &lt;int&gt; | LED &lt;dbl&gt; | LDD &lt;dbl&gt; | DAD &lt;dbl&gt; | BMI &lt;dbl&gt; | PD_AAO &lt;dbl&gt; | Disease_duration &lt;dbl&gt; | HY &lt;dbl&gt; | Dyskinesia &lt;int&gt; | Sex &lt;chr&gt; |\n",
       "|---|---|---|---|---|---|---|---|---|---|---|---|---|---|\n",
       "| NET_PD_LS1       | 10098 |    0 | 0 | 1 | 300.00 |  0 | 300 | 24.53287 | 66.60000 |  2.4000000 | 3 |  0 | Male   |\n",
       "| NET_PD_LS1       | 10098 |   85 | 0 | 1 | 300.00 |  0 | 300 | 24.53287 | 66.60000 |  2.6327173 | 3 |  0 | Male   |\n",
       "| NET_PD_LS1       | 10098 |  360 | 0 | 1 | 320.00 |  0 | 320 | 24.53287 | 66.60000 |  3.3856263 | 3 |  0 | Male   |\n",
       "| PROPARK          | 1     |    0 | 1 | 1 | 682.00 | NA |  NA |       NA | 71.00000 | 10.8000000 | 3 |  1 | Female |\n",
       "| PROPARK          | 1     |  530 | 1 | 1 | 607.00 | NA |  NA |       NA | 71.00000 | 12.2510609 | 3 |  1 | Female |\n",
       "| PROPARK          | 1     | 1014 | 1 | 0 | 498.75 | NA |  NA |       NA | 71.00000 | 13.5761807 | 5 |  1 | Female |\n",
       "| PreCEPT_PostCEPT | 1003  |    0 | 0 | 0 |     NA | NA |  NA |       NA | 69.99863 |  0.1971253 | 1 | NA | Male   |\n",
       "| PreCEPT_PostCEPT | 1003  |   26 | 0 | 0 |     NA | NA |  NA |       NA | 69.99863 |  0.2683094 | 1 | NA | Male   |\n",
       "| PreCEPT_PostCEPT | 1003  |   55 | 0 | 0 |     NA | NA |  NA |       NA | 69.99863 |  0.3477071 | 1 | NA | Male   |\n",
       "\n"
      ],
      "text/plain": [
       "  STUDY_NAME       ID    TSTART DOPA DA LED    LDD DAD BMI      PD_AAO  \n",
       "1 NET_PD_LS1       10098    0   0    1  300.00  0  300 24.53287 66.60000\n",
       "2 NET_PD_LS1       10098   85   0    1  300.00  0  300 24.53287 66.60000\n",
       "3 NET_PD_LS1       10098  360   0    1  320.00  0  320 24.53287 66.60000\n",
       "4 PROPARK          1        0   1    1  682.00 NA   NA       NA 71.00000\n",
       "5 PROPARK          1      530   1    1  607.00 NA   NA       NA 71.00000\n",
       "6 PROPARK          1     1014   1    0  498.75 NA   NA       NA 71.00000\n",
       "7 PreCEPT_PostCEPT 1003     0   0    0      NA NA   NA       NA 69.99863\n",
       "8 PreCEPT_PostCEPT 1003    26   0    0      NA NA   NA       NA 69.99863\n",
       "9 PreCEPT_PostCEPT 1003    55   0    0      NA NA   NA       NA 69.99863\n",
       "  Disease_duration HY Dyskinesia Sex   \n",
       "1  2.4000000       3   0         Male  \n",
       "2  2.6327173       3   0         Male  \n",
       "3  3.3856263       3   0         Male  \n",
       "4 10.8000000       3   1         Female\n",
       "5 12.2510609       3   1         Female\n",
       "6 13.5761807       5   1         Female\n",
       "7  0.1971253       1  NA         Male  \n",
       "8  0.2683094       1  NA         Male  \n",
       "9  0.3477071       1  NA         Male  "
      ]
     },
     "metadata": {},
     "output_type": "display_data"
    }
   ],
   "source": [
    "STUDYs = c('NET_PD_LS1', 'PROPARK', 'PreCEPT_PostCEPT')\n",
    "COVs = c('STUDY_NAME', 'ID', 'TSTART', 'DOPA', 'AGONIST', 'LED', 'LDD', 'DAD', 'BMI', 'AAO', \n",
    "         'DiseaseDuration', 'HY', 'FEMALE', 'Dyskinesia')\n",
    "df = d %>% \n",
    "    inner_join(., pca, by = c('STUDY_NAME', 'ID')) %>%\n",
    "    select(all_of(COVs)) %>%\n",
    "    filter(STUDY_NAME %in% STUDYs) %>%\n",
    "    arrange(STUDY_NAME, ID, TSTART) %>%\n",
    "    rename(PD_AAO = AAO, \n",
    "           DA = AGONIST,\n",
    "           Disease_duration = DiseaseDuration) %>%\n",
    "    mutate(Sex = if_else(FEMALE==1, 'Female', 'Male')) %>%\n",
    "    select(-FEMALE)\n",
    "df %>%\n",
    "    group_by(STUDY_NAME) %>%\n",
    "    slice(1:3)"
   ]
  },
  {
   "cell_type": "code",
   "execution_count": 6,
   "id": "5b2e697b",
   "metadata": {},
   "outputs": [
    {
     "data": {
      "text/plain": [
       "                  Dyskinesia\n",
       "STUDY_NAME           0   1\n",
       "  NET_PD_LS1       332   5\n",
       "  PROPARK          206  77\n",
       "  PreCEPT_PostCEPT   0   0"
      ]
     },
     "metadata": {},
     "output_type": "display_data"
    }
   ],
   "source": [
    "dfb = df %>% filter(TSTART==0)\n",
    "dfb %>% with(table(STUDY_NAME, Dyskinesia))"
   ]
  },
  {
   "cell_type": "code",
   "execution_count": null,
   "id": "edf3c974",
   "metadata": {},
   "outputs": [],
   "source": [
    "# BL logistic analysis is only for propark\n",
    "dft = dfb %>% filter(STUDY_NAME=='PROPARK') %>%\n",
    "    inner_join(., pca, by = c('STUDY_NAME', 'ID')) %>%\n",
    "    select(IID, Dyskinesia, PD_AAO, Sex, HY, Disease_duration, PC1, PC2, PC3, STUDY_NAME) %>%\n",
    "    filter(complete.cases(.)) %>%\n",
    "    mutate(Dyskinesia=Dyskinesia+1)\n",
    "dft %>% fwrite('data/SCOPA_ALL.txt', sep='\\t')\n",
    "dft %>% filter(Sex=='Female') %>% fwrite('data/SCOPA_FEMALE.txt', sep='\\t')\n",
    "dft %>% filter(Sex=='Male') %>% fwrite('data/SCOPA_MALE.txt', sep='\\t')"
   ]
  },
  {
   "cell_type": "code",
   "execution_count": 8,
   "id": "eccb78e1-63b8-4df7-9126-236c07070c45",
   "metadata": {},
   "outputs": [
    {
     "data": {
      "text/plain": [
       "                  Dyskinesia\n",
       "STUDY_NAME           0   1\n",
       "  NET_PD_LS1       221 117\n",
       "  PROPARK          109 177\n",
       "  PreCEPT_PostCEPT 181 137"
      ]
     },
     "metadata": {},
     "output_type": "display_data"
    }
   ],
   "source": [
    "# Never vs Ever analysis\n",
    "df_dysky = df %>% filter(Dyskinesia==1) %>% distinct(STUDY_NAME, ID, .keep_all=T)\n",
    "df_dyskn = df %>% filter(Dyskinesia==0) %>% distinct(STUDY_NAME, ID, .keep_all=T)\n",
    "df_dysk = bind_rows(df_dysky, df_dyskn) %>% distinct(STUDY_NAME, ID, .keep_all=T) %>%\n",
    "    arrange(STUDY_NAME, ID, TSTART)\n",
    "df_dysk %>%  with(table(STUDY_NAME, Dyskinesia))\n",
    "dftt = inner_join(df_dysk, pca, by = c('STUDY_NAME', 'ID')) %>%\n",
    "    select(IID, Dyskinesia, PD_AAO, Sex, HY, Disease_duration, PC1, PC2, PC3, STUDY_NAME) %>%\n",
    "    filter(complete.cases(.)) %>%\n",
    "    mutate(Dyskinesia=Dyskinesia+1)\n",
    "\n",
    "dft = dftt %>% filter(STUDY_NAME=='PROPARK')\n",
    "dft %>% fwrite('data/SCOPA_ALL_en.txt .txt', sep='\\t')\n",
    "dft %>% filter(Sex=='Female') %>% fwrite('data/SCOPA_FEMALE_en.txt', sep='\\t')\n",
    "dft %>% filter(Sex=='Male') %>% fwrite('data/SCOPA_MALE_en.txt', sep='\\t')\n",
    "\n",
    "dft = dftt %>% filter(STUDY_NAME=='NET_PD_LS1')\n",
    "dft %>% fwrite('data/CORIELL_ALL_en.txt', sep='\\t')\n",
    "dft %>% filter(Sex=='Female') %>% fwrite('data/CORIELL_FEMALE_en.txt', sep='\\t')\n",
    "dft %>% filter(Sex=='Male') %>% fwrite('data/CORIELL_MALE_en.txt', sep='\\t')\n",
    "\n",
    "dft = dftt %>% filter(STUDY_NAME=='PreCEPT_PostCEPT')\n",
    "dft %>% fwrite('data/PRECEPT_ALL_en.txt', sep='\\t')\n",
    "dft %>% filter(Sex=='Female') %>% fwrite('data/PRECEPT_FEMALE_en.txt', sep='\\t')\n",
    "dft %>% filter(Sex=='Male') %>% fwrite('data/PRECEPT_MALE_en.txt', sep='\\t')"
   ]
  },
  {
   "cell_type": "code",
   "execution_count": 15,
   "id": "954c4b06",
   "metadata": {},
   "outputs": [
    {
     "data": {
      "text/plain": [
       "                  \n",
       "STUDY_NAME         FALSE TRUE\n",
       "  NET_PD_LS1         112    5\n",
       "  PROPARK            100   77\n",
       "  PreCEPT_PostCEPT   137    0"
      ]
     },
     "metadata": {},
     "output_type": "display_data"
    }
   ],
   "source": [
    "# linear regression for those with dyskinesia\n",
    "df %>% filter(Dyskinesia==1) %>% distinct(STUDY_NAME, ID, .keep_all=T) %>% with(table(STUDY_NAME, TSTART==0))"
   ]
  },
  {
   "cell_type": "code",
   "execution_count": 16,
   "id": "964bdb0c",
   "metadata": {},
   "outputs": [],
   "source": [
    "library(haven)"
   ]
  },
  {
   "cell_type": "code",
   "execution_count": null,
   "id": "fed7e6d4",
   "metadata": {},
   "outputs": [],
   "source": [
    "# read_sav('data/SCOPA-data 6 years complete-wide_dyskinesia.sav') %>% summary"
   ]
  },
  {
   "cell_type": "code",
   "execution_count": null,
   "id": "97d53c59",
   "metadata": {},
   "outputs": [],
   "source": [
    "# remove those with dyskinesia at the baseline\n",
    "dfl = df %>% filter(Dyskinesia==1) %>% distinct(STUDY_NAME, ID, .keep_all=T) %>% filter(TSTART!=0) %>%\n",
    "    inner_join(., pca, by = c('STUDY_NAME', 'ID')) %>%\n",
    "    select(IID, Dyskinesia, PD_AAO, Sex, HY, Disease_duration, PC1, PC2, PC3, STUDY_NAME)\n",
    "# SCOPA/PROPARK\n",
    "dflt = dfl %>% filter(STUDY_NAME=='PROPARK') %>% filter(complete.cases(.))\n",
    "dflt %>% fwrite('data/SCOPA_ALL.lin.txt', sep='\\t')\n",
    "dflt %>% filter(Sex=='Female') %>% fwrite('data/SCOPA_FEMALE.lin.txt', sep='\\t')\n",
    "dflt %>% filter(Sex=='Male') %>% fwrite('data/SCOPA_MALE.lin.txt', sep='\\t')\n",
    "# CORIELL/NET_PD_LS1\n",
    "dflt = dfl %>% filter(STUDY_NAME=='NET_PD_LS1') %>% filter(complete.cases(.))\n",
    "dflt %>% fwrite('data/CORIELL_ALL.lin.txt', sep='\\t')\n",
    "dflt %>% filter(Sex=='Female') %>% fwrite('data/CORIELL_FEMALE.lin.txt', sep='\\t')\n",
    "dflt %>% filter(Sex=='Male') %>% fwrite('data/CORIELL_MALE.lin.txt', sep='\\t')\n",
    "# PreCEPT/PostCEPT\n",
    "dflt = dfl %>% filter(STUDY_NAME=='PreCEPT_PostCEPT') %>% filter(complete.cases(.))\n",
    "dflt %>% fwrite('data/PRECEPT_ALL.lin.txt', sep='\\t')\n",
    "dflt %>% filter(Sex=='Female') %>% fwrite('data/PRECEPT_FEMALE.lin.txt', sep='\\t')\n",
    "dflt %>% filter(Sex=='Male') %>% fwrite('data/PRECEPT_MALE.lin.txt', sep='\\t')"
   ]
  },
  {
   "cell_type": "code",
   "execution_count": null,
   "id": "fdaa11fc",
   "metadata": {},
   "outputs": [],
   "source": [
    "dflt %>% filter(STUDY_NAME=='NET_PD_LS1') %>% with(hist(TSTART))\n",
    "dfs %>% filter(TSTART!=0) %>% filter(STUDY_NAME=='PROPARK') %>% with(hist(TSTART))\n",
    "dfs %>% filter(TSTART!=0) %>% filter(STUDY_NAME=='PreCEPT_PostCEPT') %>% with(hist(TSTART))"
   ]
  },
  {
   "cell_type": "code",
   "execution_count": null,
   "id": "961afa1b",
   "metadata": {},
   "outputs": [],
   "source": [
    "# All 3 cohorts are ok for linear reg\n",
    "removeID = df %>% filter(Dyskinesia==1, TSTART==0) %>% distinct(STUDY_NAME, ID)\n",
    "print(dim(removeID))\n",
    "dfs = anti_join(df, removeID, by = c('STUDY_NAME', 'ID')) %>%\n",
    "    inner_join(., pca, by = c('STUDY_NAME', 'ID')) %>%\n",
    "    select(IID, Dyskinesia, PD_AAO, Sex, HY, Disease_duration, PC1, PC2, PC3, TSTART, STUDY_NAME) \n",
    "dfs %>% with(table(STUDY_NAME, Dyskinesia))"
   ]
  },
  {
   "cell_type": "code",
   "execution_count": null,
   "id": "7b75b687",
   "metadata": {},
   "outputs": [],
   "source": [
    "dfs1 = dfs %>% filter(Dyskinesia==1) %>% distinct(STUDY_NAME, IID, .keep_all=T)\n",
    "dfs0 = dfs %>% arrange(STUDY_NAME, IID, desc(TSTART)) %>% filter(Dyskinesia==0) %>% distinct(STUDY_NAME, IID, .keep_all=T)\n",
    "dfsgo = bind_rows(dfs1, dfs0) %>% distinct(STUDY_NAME, IID, .keep_all=T) %>% arrange(STUDY_NAME, IID)\n",
    "dfsgo %>% with(table(STUDY_NAME, Dyskinesia))"
   ]
  },
  {
   "cell_type": "code",
   "execution_count": null,
   "id": "3cfca06d",
   "metadata": {},
   "outputs": [],
   "source": [
    "dfsgo %>% head"
   ]
  },
  {
   "cell_type": "code",
   "execution_count": null,
   "id": "75fd8182",
   "metadata": {},
   "outputs": [],
   "source": [
    "# SCOPA/PROPARK\n",
    "dfst = dfsgo %>% filter(STUDY_NAME=='PROPARK') %>% filter(complete.cases(.))\n",
    "dfst %>% fwrite('data/SCOPA_ALL.surv.txt', sep='\\t')\n",
    "dfst %>% filter(Sex=='Female') %>% fwrite('data/SCOPA_FEMALE.surv.txt', sep='\\t')\n",
    "dfst %>% filter(Sex=='Male') %>% fwrite('data/SCOPA_MALE.surv.txt', sep='\\t')\n",
    "# CORIELL/NET_PD_LS1\n",
    "dfst = dfsgo %>% filter(STUDY_NAME=='NET_PD_LS1') %>% select(-HY) %>% filter(complete.cases(.))\n",
    "dfst %>% fwrite('data/CORIELL_ALL.surv.txt', sep='\\t')\n",
    "dfst %>% filter(Sex=='Female') %>% fwrite('data/CORIELL_FEMALE.surv.txt', sep='\\t')\n",
    "dfst %>% filter(Sex=='Male') %>% fwrite('data/CORIELL_MALE.surv.txt', sep='\\t')\n",
    "# PreCEPT/PostCEPT\n",
    "dfst = dfsgo %>% filter(STUDY_NAME=='PreCEPT_PostCEPT') %>% filter(complete.cases(.))\n",
    "dfst %>% fwrite('data/PRECEPT_ALL.surv.txt', sep='\\t')\n",
    "dfst %>% filter(Sex=='Female') %>% fwrite('data/PRECEPT_FEMALE.surv.txt', sep='\\t')\n",
    "dfst %>% filter(Sex=='Male') %>% fwrite('data/PRECEPT_MALE.surv.txt', sep='\\t')"
   ]
  },
  {
   "cell_type": "code",
   "execution_count": null,
   "id": "b2759fa8",
   "metadata": {},
   "outputs": [],
   "source": [
    "SNPset "
   ]
  },
  {
   "cell_type": "code",
   "execution_count": null,
   "id": "15d02868",
   "metadata": {},
   "outputs": [],
   "source": [
    "# args <- commandArgs(trailingOnly = TRUE)\n",
    "args='NOADJ;Dyskinesia;Sex+PC1+PC2+PC3;/data/LNG/iwakih2/dataset/PRECEPT/maf01rsq3_20Kcut/cut11.0.txt.gz;data/PRECEPT_ALL.surv.txt;/data//CARD/projects/dysk_prog/surv/PRECEPT'\n",
    "t = strsplit(args, \";\")[[1]]\n",
    "MODEL=t[1];OUTCOME=t[2];COVPC=t[3];SLICE=t[4];PHENO=t[5];OUTPUT=t[6]\n",
    "library(tidyr);library(dplyr);library(data.table);library(survival)\n",
    "COVs = strsplit(COVPC, \"\\\\+\")[[1]]\n",
    "data = fread(PHENO) \n",
    "SNPset = fread(cmd = paste('gzcat -f', SLICE)) # %>% .[,1:10]\n",
    "SNPs = names(SNPset)[-c(1:2)] # IID, DOSE\n",
    "cohort = data %>% mutate(Sex = if_else(Sex=='Male', 0, 1)) %>% arrange(IID, TSTART) %>% data.frame()\n",
    "cohort[COVs] = as.data.frame(scale(cohort[COVs]))\n",
    "cohort_snp = inner_join(cohort, SNPset, by = \"IID\")\n",
    "cohort_snp$SurvObj1 = with(cohort_snp, Surv(Disease_duration, Dyskinesia))\n",
    "# ANALYSIS\n",
    "test.listfunc = function(x){\n",
    "  # Models\n",
    "  MODEL = paste(\"SurvObj1~\" , \"`\", SNPs[x], \"` + \", COVPC, sep = \"\")\n",
    "  testCox = try(coxph(eval(parse(text = MODEL)), data = cohort_snp),silent = T)\n",
    "  if(class(testCox)[1]==\"try-error\"){\n",
    "    sumstat=c(SNPs[x], \"NoConverge\", rep(NA,4))\n",
    "  }else{\n",
    "    temp= summary(testCox)$coefficients\n",
    "    if(grep(substr(SNPs[x],1,3), rownames(temp)) %>% length == 0){ # In this case, SNP is dropeed from the model\n",
    "      sumstat=c(SNPs[x], \"NoVforSNP\", rep(NA, 4))\n",
    "    }else{\n",
    "      RES = temp[1,]\n",
    "      EVENT_OBS = paste(testCox$nevent, testCox$n, sep=\"_\")\n",
    "      s = cohort_snp[,c(\"IID\", SNPs[x])] %>% distinct(IID, .keep_all = T) %>% filter(!is.na(SNPs[x]))\n",
    "      sumstat <- c(SNPs[x], EVENT_OBS, as.numeric(RES[4]), RES[1], RES[3], RES[5], nrow(s), mean(s[,SNPs[x]])/2)\n",
    "    }\n",
    "  }\n",
    "  return(sumstat)\n",
    "}\n",
    "\n",
    "temp = lapply(1:length(SNPs), test.listfunc)\n",
    "temp2 = do.call(rbind, temp) %>% data.frame%>%filter(complete.cases(.))\n",
    "names(temp2)=c(\"POS_A2_A1\", \"EVENT_OBS\", \"Tvalue\", \"BETA\", \"SE\", \"P\", \"N\", \"ALT_Frq\") \n",
    "temp3 = temp2 %>% separate(POS_A2_A1, c(\"SNP\", \"A2\", \"A1\"),sep=\"_\")\n",
    "dir.create(OUTPUT, recursive = T, showWarnings = F)\n",
    "FILENAME = strsplit(SLICE, \"cut/\")[[1]][2] %>% sub(\"txt.gz\", paste(OUTCOME,\"cox.txt\", sep='.'), .)\n",
    "FILENAME2 = sub('_', '.', basename(PHENO)) %>% sub('surv.txt', paste(MODEL, FILENAME, sep='.'), .)\n",
    "write.table(temp3, paste(OUTPUT, FILENAME2, sep=\"/\"), row.names = F, quote = F, sep = \"\\t\")"
   ]
  },
  {
   "cell_type": "code",
   "execution_count": null,
   "id": "2a39197c",
   "metadata": {},
   "outputs": [],
   "source": [
    "\n",
    "require(\"qqman\");require(\"data.table\");require(\"tidyr\");require(\"dplyr\")\n",
    "# t = commandArgs(trailingOnly = TRUE)\n",
    "t = c('/data/CARD/projects/dysk_prog/RES/PRECEPT.ALL.ADJ.Dyskinesia.cox.txt',\n",
    "     'lambdas.txt')\n",
    "FILE=t[1]\n",
    "LAMBDA_OUTPUT=t[2]\n",
    "NAME=basename(FILE)\n",
    "MH = fread(FILE) \n",
    "if('ID' %in% names(MH)){\n",
    "    MH = MH %>% rename(SNP=ID)\n",
    "}\n",
    "MH = MH %>% separate(SNP, c(\"CHR\", \"BP\"), remove = F) %>%\n",
    "  mutate_at(vars(\"CHR\", \"BP\", \"P\", \"ALT_Frq\"), as.numeric) %>% \n",
    "  filter(ALT_Frq>0.05 & ALT_Frq<0.95)\n",
    "# lambda\n",
    "chisq <- qchisq(MH$P,1, lower.tail = F)\n",
    "lambda = median(chisq)/qchisq(0.5,1)\n",
    "print(lambda)\n",
    "newchisq=chisq/lambda\n",
    "MH$newp=pchisq(newchisq,1, lower.tail = F)\n",
    "write(paste(NAME, lambda, sep=\",\"), LAMBDA_OUTPUT, append = T)\n",
    "# # QQ plot\n",
    "png(paste(NAME, \"QQ.png\", sep=\"_\"))\n",
    "qq(MH$P, main = TITLE)\n",
    "text(4, 1, sprintf(\"lambda = %.3f\", lambda))\n",
    "text(4, 2, paste(\"N of variants =\", nrow(MH)))\n",
    "dev.off()\n",
    "MH plot if lambda is not too large\n",
    "if(lambda < 2){\n",
    "    MH = MH %>% filter(P<0.05)\n",
    "    maxlogP=-log10(min(MH$newp))\n",
    "    png(paste(NAME,\"MH_Adj.png\", sep=\"_\"), width=2000, height=1000, pointsize=18)\n",
    "    manhattan(MH, col = c(\"blue4\", \"orange3\"), p = \"newp\", main=NAME, cex.axis = 0.6, annotatePval = 0.00001, ylim=c(0, max(10, maxlogP)))\n",
    "    dev.off()\n",
    "}\n"
   ]
  },
  {
   "cell_type": "code",
   "execution_count": null,
   "id": "d8aec201",
   "metadata": {},
   "outputs": [],
   "source": []
  }
 ],
 "metadata": {
  "kernelspec": {
   "display_name": "R/4.1",
   "language": "R",
   "name": "ir41"
  },
  "language_info": {
   "codemirror_mode": "r",
   "file_extension": ".r",
   "mimetype": "text/x-r-source",
   "name": "R",
   "pygments_lexer": "r",
   "version": "4.1.0"
  }
 },
 "nbformat": 4,
 "nbformat_minor": 5
}
