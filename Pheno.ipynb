{
 "cells": [
  {
   "cell_type": "code",
   "execution_count": 1,
   "id": "d1f72ff7",
   "metadata": {},
   "outputs": [
    {
     "name": "stderr",
     "output_type": "stream",
     "text": [
      "-- \u001b[1mAttaching packages\u001b[22m --------------------------------------- tidyverse 1.3.1 --\n",
      "\n",
      "\u001b[32mv\u001b[39m \u001b[34mggplot2\u001b[39m 3.3.5     \u001b[32mv\u001b[39m \u001b[34mpurrr  \u001b[39m 0.3.4\n",
      "\u001b[32mv\u001b[39m \u001b[34mtibble \u001b[39m 3.1.6     \u001b[32mv\u001b[39m \u001b[34mdplyr  \u001b[39m 1.0.8\n",
      "\u001b[32mv\u001b[39m \u001b[34mtidyr  \u001b[39m 1.2.0     \u001b[32mv\u001b[39m \u001b[34mstringr\u001b[39m 1.4.0\n",
      "\u001b[32mv\u001b[39m \u001b[34mreadr  \u001b[39m 2.1.2     \u001b[32mv\u001b[39m \u001b[34mforcats\u001b[39m 0.5.1\n",
      "\n",
      "-- \u001b[1mConflicts\u001b[22m ------------------------------------------ tidyverse_conflicts() --\n",
      "\u001b[31mx\u001b[39m \u001b[34mdplyr\u001b[39m::\u001b[32mfilter()\u001b[39m masks \u001b[34mstats\u001b[39m::filter()\n",
      "\u001b[31mx\u001b[39m \u001b[34mdplyr\u001b[39m::\u001b[32mlag()\u001b[39m    masks \u001b[34mstats\u001b[39m::lag()\n",
      "\n",
      "\n",
      "Attaching package: 'data.table'\n",
      "\n",
      "\n",
      "The following objects are masked from 'package:dplyr':\n",
      "\n",
      "    between, first, last\n",
      "\n",
      "\n",
      "The following object is masked from 'package:purrr':\n",
      "\n",
      "    transpose\n",
      "\n",
      "\n",
      "\n",
      "Attaching package: 'zoo'\n",
      "\n",
      "\n",
      "The following objects are masked from 'package:base':\n",
      "\n",
      "    as.Date, as.Date.numeric\n",
      "\n",
      "\n",
      "Loading required package: lme4\n",
      "\n",
      "Loading required package: Matrix\n",
      "\n",
      "\n",
      "Attaching package: 'Matrix'\n",
      "\n",
      "\n",
      "The following objects are masked from 'package:tidyr':\n",
      "\n",
      "    expand, pack, unpack\n",
      "\n",
      "\n",
      "\n",
      "Attaching package: 'lmerTest'\n",
      "\n",
      "\n",
      "The following object is masked from 'package:lme4':\n",
      "\n",
      "    lmer\n",
      "\n",
      "\n",
      "The following object is masked from 'package:stats':\n",
      "\n",
      "    step\n",
      "\n",
      "\n",
      "\n",
      "Loading the 'metafor' package (version 3.0-2). For an\n",
      "introduction to the package please type: help(metafor)\n",
      "\n",
      "\n"
     ]
    }
   ],
   "source": [
    "library(tidyverse)\n",
    "library(data.table)\n",
    "library(zoo)\n",
    "# library(tableone)\n",
    "library(survival)\n",
    "library(lmerTest)\n",
    "library(metafor)\n",
    "library(optimx)\n",
    "library(broom)"
   ]
  },
  {
   "cell_type": "code",
   "execution_count": 2,
   "id": "c2a27065",
   "metadata": {},
   "outputs": [
    {
     "data": {
      "text/plain": [
       "                  \n",
       "STUDY_NAME         FALSE TRUE\n",
       "  DATATOP              4  796\n",
       "  DIGPD               76  350\n",
       "  HBS                 98  482\n",
       "  NET_PD_LS1          36 1705\n",
       "  PARKFIT            120  466\n",
       "  PARKWEST             6  181\n",
       "  PDBP               447  485\n",
       "  PICNICS             11  122\n",
       "  PPMI                52  408\n",
       "  PROPARK              6  327\n",
       "  PreCEPT_PostCEPT     0  390\n",
       "  UDALL_PENN          19  233"
      ]
     },
     "metadata": {},
     "output_type": "display_data"
    }
   ],
   "source": [
    "VARS = c(\"STUDY_NAME\", \"ID\", \"TSTART\", \"DOPA\", \"AGONIST\",'Race', 'LED', 'LDD', 'DAD', 'WGTBL', 'HTBL', 'BMI',\n",
    "         \"Hyposmia\", \"Cognitive_Impairment\",\"Wearing_Off\", \"Dyskinesia\", \"Depression\", \n",
    "         \"RLS\",\"Constipation\", \"pRBD\", \"Daytime_Sleepiness\", \"Insomnia\", \"HY\", \n",
    "         \"UPDRS1\", \"UPDRS2\",\"UPDRS3\", \"UPDRS4\", \"oldUPDRS\",\"MDS_UPDRS\", \"MMSE\", \"MoCA\", \"SEADL\",'UPSIT', 'SEADL70',\n",
    "         \"AGEatBL\", \"FEMALE\", \"YEARSEDUC\", \"BLDfDIAG\",\"AAO\",\"AD\", 'FUY')\n",
    "VARSb = c('Female', \"Hyposmia\",\"Cognitive_Impairment\", \"Wearing_Off\", \n",
    "          \"Dyskinesia\", \"Depression\", \"RLS\",\"Constipation\", \"pRBD\", \n",
    "          \"Daytime_Sleepiness\", \"Insomnia\", \"SEADL70\")\n",
    "VARSu = c(\"UPDRS_scaled\", \"UPDRS1_scaled\", \"UPDRS2_scaled\", \"UPDRS3_scaled\", \"UPDRS4_scaled\")\n",
    "VARSc = c(VARSu, 'HY', \"MMSE\", \"MoCA\", \"SEADL\")\n",
    "DENOVOs=c('PPMI', 'PreCEPT_PostCEPT', 'PARKWEST', 'DATATOP')\n",
    "STUDYs = c(DENOVOs, 'PICNICS', 'NET_PD_LS1', 'DIGPD',  \"PDBP\", \"HBS\", \"PARKFIT\", \"PROPARK\", \"UDALL_PENN\")\n",
    "\n",
    "d = lapply(STUDYs, function(x){fread(sprintf('/data/LNG/iwakih2/MaleFemale/PDcohorts/%s/standardized.csv', x)) %>% mutate(ID=as.character(ID))}) %>% \n",
    "  bind_rows() %>% \n",
    "  mutate(STUDY_NAME = ifelse(grepl('PDBP_', STUDY_NAME), 'PDBP', STUDY_NAME)) %>%\n",
    "  mutate(Age = AGEatBL + TSTART/365.25) %>%\n",
    "  mutate(DiseaseDuration = BLDfDIAG + TSTART/365.25)\n",
    "\n",
    "# recode and rename\n",
    "d = d %>% \n",
    "    # set BMI but BMI >50 are highly likely to be scaling mistakes\n",
    "    mutate(BMI = WGTBL/HTBL/HTBL*100*100) %>%\n",
    "    mutate(BMI = ifelse(BMI>55, NA, BMI),\n",
    "           WGTBL = ifelse(BMI>55, NA, WGTBL),\n",
    "           HTBL = ifelse(BMI>55, NA, HTBL))%>%\n",
    "    # New hyposmia threshold using UPSIT norm\n",
    "    mutate(Hyposmia = case_when(\n",
    "        (FEMALE==1) & (Age<25) & (UPSIT<=35) ~ 1,\n",
    "        (FEMALE==1) & (Age<50) & (UPSIT<=34) ~ 1,\n",
    "        (FEMALE==1) & (Age<60) & (UPSIT<=32) ~ 1,\n",
    "        (FEMALE==1) & (Age<65) & (UPSIT<=31) ~ 1,\n",
    "        (FEMALE==1) & (Age<70) & (UPSIT<=26) ~ 1,\n",
    "        (FEMALE==1) & (Age<75) & (UPSIT<=22) ~ 1,\n",
    "        (FEMALE==1) & (Age<80) & (UPSIT<=17) ~ 1,\n",
    "        (FEMALE==1) & (Age>=80) & (UPSIT<=15) ~ 1,\n",
    "        (FEMALE==0) & (Age<40) & (UPSIT<=33) ~ 1,\n",
    "        (FEMALE==0) & (Age<50) & (UPSIT<=32) ~ 1,\n",
    "        (FEMALE==0) & (Age<55) & (UPSIT<=29) ~ 1,\n",
    "        (FEMALE==0) & (Age<65) & (UPSIT<=26) ~ 1,\n",
    "        (FEMALE==0) & (Age<70) & (UPSIT<=22) ~ 1,\n",
    "        (FEMALE==0) & (Age<75) & (UPSIT<=19) ~ 1,\n",
    "        (FEMALE==0) & (Age<80) & (UPSIT<=18) ~ 1,\n",
    "        (FEMALE==0) & (Age<85) & (UPSIT<=12) ~ 1,\n",
    "        (FEMALE==0) & (Age>=85) & (UPSIT<=10) ~ 1,\n",
    "        !is.na(UPSIT) ~ 0)) %>%\n",
    "#     mutate(Anosmia = (UPSIT<18)*1) %>% \n",
    "    rename(Wearing_Off = MOTORFLUX,\n",
    "          Cognitive_Impairment = MCI,\n",
    "          Dementia=DEMENTIA,\n",
    "          MoCA = MOCA,\n",
    "          Dyskinesia = DYSKINESIAS,\n",
    "          Depression = DEPR,\n",
    "          RLS = RL, \n",
    "          Constipation = CONST,\n",
    "          pRBD = RBD,\n",
    "          Daytime_Sleepiness = SLEEP,\n",
    "          Insomnia = INS)\n",
    "\n",
    "db = d %>% filter(TSTART==0) %>% filter(RECRUIT=='PD', DX=='PD') # Only PDs\n",
    "db %>% with(table(STUDY_NAME, FUY>0))\n",
    "db = db %>% filter(FUY>0)  # Filter out FUY==0\n",
    "\n",
    "# Keep the FU>0, and Standardization of UPDRS\n",
    "d = semi_join(d, db, by = c('STUDY_NAME', 'ID')) # Only keep participants in db\n",
    "t = db %>% group_by(STUDY_NAME) %>% \n",
    "  summarise_at(vars('UPDRS1', 'UPDRS2', 'UPDRS3', 'oldUPDRS', 'MDS_UPDRS'),\n",
    "               list(~mean(., na.rm = T), ~sd(., na.rm=T))) %>% data.frame\n",
    "d = left_join(d, t, by = 'STUDY_NAME') %>% \n",
    "  mutate(UPDRS1_scaled = ifelse(is.na(UPDRS1_sd), NA, (UPDRS1 - UPDRS1_mean)/UPDRS1_sd),\n",
    "         UPDRS2_scaled = ifelse(is.na(UPDRS2_sd), NA, (UPDRS2 - UPDRS2_mean)/UPDRS2_sd),\n",
    "         UPDRS3_scaled = ifelse(is.na(UPDRS3_sd), NA, (UPDRS3 - UPDRS3_mean)/UPDRS3_sd),\n",
    "         UPDRS4_scaled = scale(UPDRS4),\n",
    "         UPDRS_scaled = case_when(\n",
    "           !is.na(MDS_UPDRS_sd) ~ (MDS_UPDRS - MDS_UPDRS_mean)/MDS_UPDRS_sd,\n",
    "           !is.na(oldUPDRS_sd) ~ (oldUPDRS - oldUPDRS_mean)/oldUPDRS_sd)) %>% \n",
    "  select(all_of(unique(c(VARS, VARSu, 'Age', 'DiseaseDuration'))))\n",
    "\n",
    "# Reset the data at baseline\n",
    "db = d %>% filter(TSTART==0)"
   ]
  },
  {
   "cell_type": "code",
   "execution_count": null,
   "id": "79773a81",
   "metadata": {},
   "outputs": [],
   "source": [
    "head(d)"
   ]
  },
  {
   "cell_type": "code",
   "execution_count": 4,
   "id": "d90729f9",
   "metadata": {},
   "outputs": [],
   "source": [
    "# CORIELL\n",
    "pca1 = fread('/data/LNG/iwakih2/dataset/CORIELL/pca10.txt') %>%\n",
    "    separate(IID_IID, into=c('ID', '_'), remove=F) %>% \n",
    "    mutate(STUDY_NAME='NET_PD_LS1')\n",
    "\n",
    "# SCOPA\n",
    "pca2 = fread('/data/LNG/iwakih2/dataset/SCOPA/pca10.txt') %>%\n",
    "    separate(IID_IID, into=c('ID', '_'), remove=F) %>% \n",
    "    mutate(STUDY_NAME='PROPARK')\n",
    "\n",
    "# PRECEPT\n",
    "pca3 = fread('/data/LNG/iwakih2/dataset/PRECEPT/pca10.txt') %>%\n",
    "    separate(IID_IID, into=c('ID', '_'), remove=F) %>% \n",
    "    mutate(STUDY_NAME='PreCEPT_PostCEPT')\n",
    "\n",
    "pca = bind_rows(pca1, pca2, pca3) %>% \n",
    "    rename(FID=FID_FID, IID = IID_IID)\n"
   ]
  },
  {
   "cell_type": "code",
   "execution_count": null,
   "id": "a3eee01b",
   "metadata": {},
   "outputs": [],
   "source": [
    "STUDYs = c('NET_PD_LS1', 'PROPARK', 'PreCEPT_PostCEPT')\n",
    "COVs = c('STUDY_NAME', 'ID', 'TSTART', 'DOPA', 'AGONIST', 'LED', 'LDD', 'DAD', 'BMI', 'AAO', \n",
    "         'DiseaseDuration', 'HY', 'FEMALE', 'Dyskinesia')\n",
    "df = d %>% \n",
    "    inner_join(., pca, by = c('STUDY_NAME', 'ID')) %>%\n",
    "    select(all_of(COVs)) %>%\n",
    "    filter(STUDY_NAME %in% STUDYs) %>%\n",
    "    arrange(STUDY_NAME, ID, TSTART) %>%\n",
    "    rename(PD_AAO = AAO, \n",
    "           DA = AGONIST,\n",
    "           Disease_duration = DiseaseDuration) %>%\n",
    "    mutate(Sex = if_else(FEMALE==1, 'Female', 'Male')) %>%\n",
    "    select(-FEMALE)\n",
    "df %>%\n",
    "    group_by(STUDY_NAME) %>%\n",
    "    slice(1:3)"
   ]
  },
  {
   "cell_type": "code",
   "execution_count": 6,
   "id": "5b2e697b",
   "metadata": {},
   "outputs": [
    {
     "data": {
      "text/plain": [
       "                  Dyskinesia\n",
       "STUDY_NAME           0   1\n",
       "  NET_PD_LS1       332   5\n",
       "  PROPARK          206  77\n",
       "  PreCEPT_PostCEPT   0   0"
      ]
     },
     "metadata": {},
     "output_type": "display_data"
    }
   ],
   "source": [
    "dfb = df %>% filter(TSTART==0)\n",
    "dfb %>% with(table(STUDY_NAME, Dyskinesia))"
   ]
  },
  {
   "cell_type": "code",
   "execution_count": null,
   "id": "edf3c974",
   "metadata": {},
   "outputs": [],
   "source": [
    "# BL logistic analysis is only for propark\n",
    "dft = dfb %>% filter(STUDY_NAME=='PROPARK') %>%\n",
    "    inner_join(., pca, by = c('STUDY_NAME', 'ID')) %>%\n",
    "    select(IID, Dyskinesia, PD_AAO, Sex, HY, Disease_duration, PC1, PC2, PC3, STUDY_NAME) %>%\n",
    "    filter(complete.cases(.)) %>%\n",
    "    mutate(Dyskinesia=Dyskinesia+1)\n",
    "dft %>% fwrite('data/SCOPA_ALL.txt', sep='\\t')\n",
    "dft %>% filter(Sex=='Female') %>% fwrite('data/SCOPA_FEMALE.txt', sep='\\t')\n",
    "dft %>% filter(Sex=='Male') %>% fwrite('data/SCOPA_MALE.txt', sep='\\t')"
   ]
  },
  {
   "cell_type": "code",
   "execution_count": 8,
   "id": "eccb78e1-63b8-4df7-9126-236c07070c45",
   "metadata": {},
   "outputs": [
    {
     "data": {
      "text/plain": [
       "                  Dyskinesia\n",
       "STUDY_NAME           0   1\n",
       "  NET_PD_LS1       221 117\n",
       "  PROPARK          109 177\n",
       "  PreCEPT_PostCEPT 181 137"
      ]
     },
     "metadata": {},
     "output_type": "display_data"
    }
   ],
   "source": [
    "# Never vs Ever analysis\n",
    "df_dysky = df %>% filter(Dyskinesia==1) %>% distinct(STUDY_NAME, ID, .keep_all=T)\n",
    "df_dyskn = df %>% filter(Dyskinesia==0) %>% distinct(STUDY_NAME, ID, .keep_all=T)\n",
    "df_dysk = bind_rows(df_dysky, df_dyskn) %>% distinct(STUDY_NAME, ID, .keep_all=T) %>%\n",
    "    arrange(STUDY_NAME, ID, TSTART)\n",
    "df_dysk %>%  with(table(STUDY_NAME, Dyskinesia))\n",
    "dftt = inner_join(df_dysk, pca, by = c('STUDY_NAME', 'ID')) %>%\n",
    "    select(IID, Dyskinesia, PD_AAO, Sex, HY, Disease_duration, PC1, PC2, PC3, STUDY_NAME) %>%\n",
    "    filter(complete.cases(.)) %>%\n",
    "    mutate(Dyskinesia=Dyskinesia+1)\n",
    "\n",
    "dft = dftt %>% filter(STUDY_NAME=='PROPARK')\n",
    "dft %>% fwrite('data/SCOPA_ALL_en.txt .txt', sep='\\t')\n",
    "dft %>% filter(Sex=='Female') %>% fwrite('data/SCOPA_FEMALE_en.txt', sep='\\t')\n",
    "dft %>% filter(Sex=='Male') %>% fwrite('data/SCOPA_MALE_en.txt', sep='\\t')\n",
    "\n",
    "dft = dftt %>% filter(STUDY_NAME=='NET_PD_LS1')\n",
    "dft %>% fwrite('data/CORIELL_ALL_en.txt', sep='\\t')\n",
    "dft %>% filter(Sex=='Female') %>% fwrite('data/CORIELL_FEMALE_en.txt', sep='\\t')\n",
    "dft %>% filter(Sex=='Male') %>% fwrite('data/CORIELL_MALE_en.txt', sep='\\t')\n",
    "\n",
    "dft = dftt %>% filter(STUDY_NAME=='PreCEPT_PostCEPT')\n",
    "dft %>% fwrite('data/PRECEPT_ALL_en.txt', sep='\\t')\n",
    "dft %>% filter(Sex=='Female') %>% fwrite('data/PRECEPT_FEMALE_en.txt', sep='\\t')\n",
    "dft %>% filter(Sex=='Male') %>% fwrite('data/PRECEPT_MALE_en.txt', sep='\\t')"
   ]
  },
  {
   "cell_type": "code",
   "execution_count": 15,
   "id": "954c4b06",
   "metadata": {},
   "outputs": [
    {
     "data": {
      "text/plain": [
       "                  \n",
       "STUDY_NAME         FALSE TRUE\n",
       "  NET_PD_LS1         112    5\n",
       "  PROPARK            100   77\n",
       "  PreCEPT_PostCEPT   137    0"
      ]
     },
     "metadata": {},
     "output_type": "display_data"
    }
   ],
   "source": [
    "# linear regression for those with dyskinesia\n",
    "df %>% filter(Dyskinesia==1) %>% distinct(STUDY_NAME, ID, .keep_all=T) %>% with(table(STUDY_NAME, TSTART==0))"
   ]
  },
  {
   "cell_type": "code",
   "execution_count": 16,
   "id": "964bdb0c",
   "metadata": {},
   "outputs": [],
   "source": [
    "library(haven)"
   ]
  },
  {
   "cell_type": "code",
   "execution_count": null,
   "id": "fed7e6d4",
   "metadata": {},
   "outputs": [],
   "source": [
    "# read_sav('data/SCOPA-data 6 years complete-wide_dyskinesia.sav') %>% summary"
   ]
  },
  {
   "cell_type": "code",
   "execution_count": null,
   "id": "97d53c59",
   "metadata": {},
   "outputs": [],
   "source": [
    "# remove those with dyskinesia at the baseline\n",
    "dfl = df %>% filter(Dyskinesia==1) %>% distinct(STUDY_NAME, ID, .keep_all=T) %>% filter(TSTART!=0) %>%\n",
    "    inner_join(., pca, by = c('STUDY_NAME', 'ID')) %>%\n",
    "    select(IID, Dyskinesia, PD_AAO, Sex, HY, Disease_duration, PC1, PC2, PC3, STUDY_NAME)\n",
    "# SCOPA/PROPARK\n",
    "dflt = dfl %>% filter(STUDY_NAME=='PROPARK') %>% filter(complete.cases(.))\n",
    "dflt %>% fwrite('data/SCOPA_ALL.lin.txt', sep='\\t')\n",
    "dflt %>% filter(Sex=='Female') %>% fwrite('data/SCOPA_FEMALE.lin.txt', sep='\\t')\n",
    "dflt %>% filter(Sex=='Male') %>% fwrite('data/SCOPA_MALE.lin.txt', sep='\\t')\n",
    "# CORIELL/NET_PD_LS1\n",
    "dflt = dfl %>% filter(STUDY_NAME=='NET_PD_LS1') %>% filter(complete.cases(.))\n",
    "dflt %>% fwrite('data/CORIELL_ALL.lin.txt', sep='\\t')\n",
    "dflt %>% filter(Sex=='Female') %>% fwrite('data/CORIELL_FEMALE.lin.txt', sep='\\t')\n",
    "dflt %>% filter(Sex=='Male') %>% fwrite('data/CORIELL_MALE.lin.txt', sep='\\t')\n",
    "# PreCEPT/PostCEPT\n",
    "dflt = dfl %>% filter(STUDY_NAME=='PreCEPT_PostCEPT') %>% filter(complete.cases(.))\n",
    "dflt %>% fwrite('data/PRECEPT_ALL.lin.txt', sep='\\t')\n",
    "dflt %>% filter(Sex=='Female') %>% fwrite('data/PRECEPT_FEMALE.lin.txt', sep='\\t')\n",
    "dflt %>% filter(Sex=='Male') %>% fwrite('data/PRECEPT_MALE.lin.txt', sep='\\t')"
   ]
  },
  {
   "cell_type": "code",
   "execution_count": null,
   "id": "fdaa11fc",
   "metadata": {},
   "outputs": [],
   "source": [
    "dflt %>% filter(STUDY_NAME=='NET_PD_LS1') %>% with(hist(TSTART))\n",
    "dfs %>% filter(TSTART!=0) %>% filter(STUDY_NAME=='PROPARK') %>% with(hist(TSTART))\n",
    "dfs %>% filter(TSTART!=0) %>% filter(STUDY_NAME=='PreCEPT_PostCEPT') %>% with(hist(TSTART))"
   ]
  },
  {
   "cell_type": "code",
   "execution_count": null,
   "id": "961afa1b",
   "metadata": {},
   "outputs": [],
   "source": [
    "# All 3 cohorts are ok for linear reg\n",
    "removeID = df %>% filter(Dyskinesia==1, TSTART==0) %>% distinct(STUDY_NAME, ID)\n",
    "print(dim(removeID))\n",
    "dfs = anti_join(df, removeID, by = c('STUDY_NAME', 'ID')) %>%\n",
    "    inner_join(., pca, by = c('STUDY_NAME', 'ID')) %>%\n",
    "    select(IID, Dyskinesia, PD_AAO, Sex, HY, Disease_duration, PC1, PC2, PC3, TSTART, STUDY_NAME) \n",
    "dfs %>% with(table(STUDY_NAME, Dyskinesia))"
   ]
  },
  {
   "cell_type": "code",
   "execution_count": null,
   "id": "7b75b687",
   "metadata": {},
   "outputs": [],
   "source": [
    "dfs1 = dfs %>% filter(Dyskinesia==1) %>% distinct(STUDY_NAME, IID, .keep_all=T)\n",
    "dfs0 = dfs %>% arrange(STUDY_NAME, IID, desc(TSTART)) %>% filter(Dyskinesia==0) %>% distinct(STUDY_NAME, IID, .keep_all=T)\n",
    "dfsgo = bind_rows(dfs1, dfs0) %>% distinct(STUDY_NAME, IID, .keep_all=T) %>% arrange(STUDY_NAME, IID)\n",
    "dfsgo %>% with(table(STUDY_NAME, Dyskinesia))"
   ]
  },
  {
   "cell_type": "code",
   "execution_count": null,
   "id": "3cfca06d",
   "metadata": {},
   "outputs": [],
   "source": [
    "dfsgo %>% head"
   ]
  },
  {
   "cell_type": "code",
   "execution_count": null,
   "id": "75fd8182",
   "metadata": {},
   "outputs": [],
   "source": [
    "# SCOPA/PROPARK\n",
    "dfst = dfsgo %>% filter(STUDY_NAME=='PROPARK') %>% filter(complete.cases(.))\n",
    "dfst %>% fwrite('data/SCOPA_ALL.surv.txt', sep='\\t')\n",
    "dfst %>% filter(Sex=='Female') %>% fwrite('data/SCOPA_FEMALE.surv.txt', sep='\\t')\n",
    "dfst %>% filter(Sex=='Male') %>% fwrite('data/SCOPA_MALE.surv.txt', sep='\\t')\n",
    "# CORIELL/NET_PD_LS1\n",
    "dfst = dfsgo %>% filter(STUDY_NAME=='NET_PD_LS1') %>% select(-HY) %>% filter(complete.cases(.))\n",
    "dfst %>% fwrite('data/CORIELL_ALL.surv.txt', sep='\\t')\n",
    "dfst %>% filter(Sex=='Female') %>% fwrite('data/CORIELL_FEMALE.surv.txt', sep='\\t')\n",
    "dfst %>% filter(Sex=='Male') %>% fwrite('data/CORIELL_MALE.surv.txt', sep='\\t')\n",
    "# PreCEPT/PostCEPT\n",
    "dfst = dfsgo %>% filter(STUDY_NAME=='PreCEPT_PostCEPT') %>% filter(complete.cases(.))\n",
    "dfst %>% fwrite('data/PRECEPT_ALL.surv.txt', sep='\\t')\n",
    "dfst %>% filter(Sex=='Female') %>% fwrite('data/PRECEPT_FEMALE.surv.txt', sep='\\t')\n",
    "dfst %>% filter(Sex=='Male') %>% fwrite('data/PRECEPT_MALE.surv.txt', sep='\\t')"
   ]
  },
  {
   "cell_type": "code",
   "execution_count": null,
   "id": "b2759fa8",
   "metadata": {},
   "outputs": [],
   "source": [
    "SNPset "
   ]
  },
  {
   "cell_type": "code",
   "execution_count": null,
   "id": "15d02868",
   "metadata": {},
   "outputs": [],
   "source": [
    "# args <- commandArgs(trailingOnly = TRUE)\n",
    "args='NOADJ;Dyskinesia;Sex+PC1+PC2+PC3;/data/LNG/iwakih2/dataset/PRECEPT/maf01rsq3_20Kcut/cut11.0.txt.gz;data/PRECEPT_ALL.surv.txt;/data//CARD/projects/dysk_prog/surv/PRECEPT'\n",
    "t = strsplit(args, \";\")[[1]]\n",
    "MODEL=t[1];OUTCOME=t[2];COVPC=t[3];SLICE=t[4];PHENO=t[5];OUTPUT=t[6]\n",
    "library(tidyr);library(dplyr);library(data.table);library(survival)\n",
    "COVs = strsplit(COVPC, \"\\\\+\")[[1]]\n",
    "data = fread(PHENO) \n",
    "SNPset = fread(cmd = paste('gzcat -f', SLICE)) # %>% .[,1:10]\n",
    "SNPs = names(SNPset)[-c(1:2)] # IID, DOSE\n",
    "cohort = data %>% mutate(Sex = if_else(Sex=='Male', 0, 1)) %>% arrange(IID, TSTART) %>% data.frame()\n",
    "cohort[COVs] = as.data.frame(scale(cohort[COVs]))\n",
    "cohort_snp = inner_join(cohort, SNPset, by = \"IID\")\n",
    "cohort_snp$SurvObj1 = with(cohort_snp, Surv(Disease_duration, Dyskinesia))\n",
    "# ANALYSIS\n",
    "test.listfunc = function(x){\n",
    "  # Models\n",
    "  MODEL = paste(\"SurvObj1~\" , \"`\", SNPs[x], \"` + \", COVPC, sep = \"\")\n",
    "  testCox = try(coxph(eval(parse(text = MODEL)), data = cohort_snp),silent = T)\n",
    "  if(class(testCox)[1]==\"try-error\"){\n",
    "    sumstat=c(SNPs[x], \"NoConverge\", rep(NA,4))\n",
    "  }else{\n",
    "    temp= summary(testCox)$coefficients\n",
    "    if(grep(substr(SNPs[x],1,3), rownames(temp)) %>% length == 0){ # In this case, SNP is dropeed from the model\n",
    "      sumstat=c(SNPs[x], \"NoVforSNP\", rep(NA, 4))\n",
    "    }else{\n",
    "      RES = temp[1,]\n",
    "      EVENT_OBS = paste(testCox$nevent, testCox$n, sep=\"_\")\n",
    "      s = cohort_snp[,c(\"IID\", SNPs[x])] %>% distinct(IID, .keep_all = T) %>% filter(!is.na(SNPs[x]))\n",
    "      sumstat <- c(SNPs[x], EVENT_OBS, as.numeric(RES[4]), RES[1], RES[3], RES[5], nrow(s), mean(s[,SNPs[x]])/2)\n",
    "    }\n",
    "  }\n",
    "  return(sumstat)\n",
    "}\n",
    "\n",
    "temp = lapply(1:length(SNPs), test.listfunc)\n",
    "temp2 = do.call(rbind, temp) %>% data.frame%>%filter(complete.cases(.))\n",
    "names(temp2)=c(\"POS_A2_A1\", \"EVENT_OBS\", \"Tvalue\", \"BETA\", \"SE\", \"P\", \"N\", \"ALT_Frq\") \n",
    "temp3 = temp2 %>% separate(POS_A2_A1, c(\"SNP\", \"A2\", \"A1\"),sep=\"_\")\n",
    "dir.create(OUTPUT, recursive = T, showWarnings = F)\n",
    "FILENAME = strsplit(SLICE, \"cut/\")[[1]][2] %>% sub(\"txt.gz\", paste(OUTCOME,\"cox.txt\", sep='.'), .)\n",
    "FILENAME2 = sub('_', '.', basename(PHENO)) %>% sub('surv.txt', paste(MODEL, FILENAME, sep='.'), .)\n",
    "write.table(temp3, paste(OUTPUT, FILENAME2, sep=\"/\"), row.names = F, quote = F, sep = \"\\t\")"
   ]
  },
  {
   "cell_type": "code",
   "execution_count": null,
   "id": "2a39197c",
   "metadata": {},
   "outputs": [],
   "source": [
    "\n",
    "require(\"qqman\");require(\"data.table\");require(\"tidyr\");require(\"dplyr\")\n",
    "# t = commandArgs(trailingOnly = TRUE)\n",
    "t = c('/data/CARD/projects/dysk_prog/RES/PRECEPT.ALL.ADJ.Dyskinesia.cox.txt',\n",
    "     'lambdas.txt')\n",
    "FILE=t[1]\n",
    "LAMBDA_OUTPUT=t[2]\n",
    "NAME=basename(FILE)\n",
    "MH = fread(FILE) \n",
    "if('ID' %in% names(MH)){\n",
    "    MH = MH %>% rename(SNP=ID)\n",
    "}\n",
    "MH = MH %>% separate(SNP, c(\"CHR\", \"BP\"), remove = F) %>%\n",
    "  mutate_at(vars(\"CHR\", \"BP\", \"P\", \"ALT_Frq\"), as.numeric) %>% \n",
    "  filter(ALT_Frq>0.05 & ALT_Frq<0.95)\n",
    "# lambda\n",
    "chisq <- qchisq(MH$P,1, lower.tail = F)\n",
    "lambda = median(chisq)/qchisq(0.5,1)\n",
    "print(lambda)\n",
    "newchisq=chisq/lambda\n",
    "MH$newp=pchisq(newchisq,1, lower.tail = F)\n",
    "write(paste(NAME, lambda, sep=\",\"), LAMBDA_OUTPUT, append = T)\n",
    "# # QQ plot\n",
    "png(paste(NAME, \"QQ.png\", sep=\"_\"))\n",
    "qq(MH$P, main = TITLE)\n",
    "text(4, 1, sprintf(\"lambda = %.3f\", lambda))\n",
    "text(4, 2, paste(\"N of variants =\", nrow(MH)))\n",
    "dev.off()\n",
    "MH plot if lambda is not too large\n",
    "if(lambda < 2){\n",
    "    MH = MH %>% filter(P<0.05)\n",
    "    maxlogP=-log10(min(MH$newp))\n",
    "    png(paste(NAME,\"MH_Adj.png\", sep=\"_\"), width=2000, height=1000, pointsize=18)\n",
    "    manhattan(MH, col = c(\"blue4\", \"orange3\"), p = \"newp\", main=NAME, cex.axis = 0.6, annotatePval = 0.00001, ylim=c(0, max(10, maxlogP)))\n",
    "    dev.off()\n",
    "}\n"
   ]
  },
  {
   "cell_type": "code",
   "execution_count": null,
   "id": "d8aec201",
   "metadata": {},
   "outputs": [],
   "source": []
  }
 ],
 "metadata": {
  "kernelspec": {
   "display_name": "R/4.1",
   "language": "R",
   "name": "ir41"
  },
  "language_info": {
   "codemirror_mode": "r",
   "file_extension": ".r",
   "mimetype": "text/x-r-source",
   "name": "R",
   "pygments_lexer": "r",
   "version": "4.1.0"
  }
 },
 "nbformat": 4,
 "nbformat_minor": 5
}
